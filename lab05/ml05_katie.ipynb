# Lab 5 Project: Ensemble Learning with Wine Quality Data

- **Author:** Katie McGaughey  
- **Date:** 2025-04-11  
- **Goal:** Use ensemble machine learning models to predict wine quality ratings based on physicochemical properties

This notebook was developed as part of Module 5 for CSIS 44-670 at Northwest Missouri State University. In this lab, we’ll explore a dataset related to red wine quality, applying various ensemble techniques to model and predict its taste ratings.

The dataset comes from the UCI Machine Learning Repository:  
🔗 https://archive.ics.uci.edu/ml/datasets/Wine+Quality

> Original dataset by:  
> P. Cortez, A. Cerdeira, F. Almeida, T. Matos, and J. Reis  
> “Modeling wine preferences by data mining from physicochemical properties.”  
> Published in *Decision Support Systems*, Elsevier, 47(4):547–553, 2009

Raw dataset (CSV format) available directly here:  
📥 https://archive.ics.uci.edu/ml/machine-learning-databases/wine-quality/winequality-red.csv

---

### About the Dataset

We're working with a classification task to predict **wine quality**, which is scored from 0 to 10 by human tasters. For our purposes, we’ll bucket those into 3 simplified quality tiers: **low (3–4)**, **medium (5–6)**, and **high (7–8)**. We’ll also assign each of those tiers a numeric label (0–2) to make modeling cleaner.

The dataset contains 1599 rows (samples) and 12 columns total: 11 input features and 1 output (target) variable. Here's a quick overview of the features:

---

#### Features (Input Variables)

- `fixed acidity`: tartaric acid content  
- `volatile acidity`: acetic acid (think vinegar)  
- `citric acid`: adds freshness and flavor  
- `residual sugar`: sugar left after fermentation  
- `chlorides`: salt content  
- `free sulfur dioxide`: microbial protection  
- `total sulfur dioxide`: sum of free + bound SO₂  
- `density`: relates to sugar and alcohol levels  
- `pH`: acidity level (lower means more acidic)  
- `sulphates`: antimicrobial + antioxidant agent  
- `alcohol`: percentage of alcohol by volume

---

#### Target Variable

- `quality`: Integer score between 0 and 10 (taster-rated)  
- We'll map these scores to:
  - **Low** (3–4) → `0`
  - **Medium** (5–6) → `1`
  - **High** (7–8) → `2`

These categories make our classification task more approachable, while still preserving the underlying quality signal in the data.
