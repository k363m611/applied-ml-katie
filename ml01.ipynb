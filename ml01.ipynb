{
 "cells": [
  {
   "cell_type": "markdown",
   "id": "project-intro",
   "metadata": {},
   "source": [
    "# California Housing Price Prediction\n",
    "**Author:** Katie McGaughey\n",
    "**Date:** 3-15-2025\n",
    "**Objective:** Predict the median house price in California using available housing features."
   ]
  },
  {
   "cell_type": "code",
   "execution_count": null,
   "id": "import-libraries",
   "metadata": {},
   "outputs": [],
   "source": [
    "# Import necessary libraries\n",
    "import pandas as pd  # For data manipulation\n",
    "import numpy as np  # For numerical computations\n",
    "import matplotlib.pyplot as plt  # For static visualizations\n",
    "import seaborn as sns  # For statistical data visualization\n",
    "\n",
    "# Import the California housing dataset from sklearn\n",
    "from sklearn.datasets import fetch_california_housing\n",
    "from sklearn.model_selection import train_test_split  # Splitting data\n",
    "from sklearn.linear_model import LinearRegression  # Linear regression model\n",
    "from sklearn.metrics import mean_squared_error, mean_absolute_error, r2_score  # Model evaluation"
   ]
  },
  {
   "cell_type": "code",
   "execution_count": null,
   "id": "load-data",
   "metadata": {},
   "outputs": [],
   "source": [
    "# Load the California housing dataset\n",
    "data = fetch_california_housing(as_frame=True)  # Ensure data is loaded as a DataFrame\n",
    "data_frame = data.frame  # Correct way to access the DataFrame\n",
    "\n",
    "# Display first 10 rows\n",
    "data_frame.head(10)"
   ]
  },
  {
   "cell_type": "code",
   "execution_count": null,
   "id": "data-exploration",
   "metadata": {},
   "outputs": [],
   "source": [
    "# Check for missing values and data types\n",
    "data_frame.info()\n",
    "\n",
    "# Summary statistics\n",
    "data_frame.describe()\n",
    "\n",
    "# Missing values\n",
    "data_frame.isnull().sum()"
   ]
  },
  {
   "cell_type": "code",
   "execution_count": null,
   "id": "data-visualization",
   "metadata": {},
   "outputs": [],
   "source": [
    "# Histograms of numerical features\n",
    "data_frame.hist(bins=30, figsize=(12, 8))\n",
    "plt.suptitle(\"Feature Distributions\")\n",
    "plt.show()"
   ]
  },
  {
   "cell_type": "code",
   "execution_count": null,
   "id": "feature-selection",
   "metadata": {},
   "outputs": [],
   "source": [
    "# Select input features and target variable\n",
    "features = ['MedInc', 'AveRooms']  # Predictor variables\n",
    "target = 'MedHouseVal'  # Target variable\n",
    "\n",
    "# Create feature matrix (X) and target vector (y)\n",
    "df_X = data_frame[features]\n",
    "df_y = data_frame[target]"
   ]
  },
  {
   "cell_type": "code",
   "execution_count": null,
   "id": "train-test-split",
   "metadata": {},
   "outputs": [],
   "source": [
    "# Split dataset into training (80%) and testing (20%) sets\n",
    "X_train, X_test, y_train, y_test = train_test_split(df_X, df_y, test_size=0.2, random_state=42)"
   ]
  },
  {
   "cell_type": "code",
   "execution_count": null,
   "id": "train-model",
   "metadata": {},
   "outputs": [],
   "source": [
    "# Create and train the Linear Regression model\n",
    "model = LinearRegression()\n",
    "model.fit(X_train, y_train)\n",
    "\n",
    "# Make predictions on the test set\n",
    "y_pred = model.predict(X_test)"
   ]
  },
  {
   "cell_type": "code",
   "execution_count": null,
   "id": "evaluate-model",
   "metadata": {},
   "outputs": [],
   "source": [
    "# Compute evaluation metrics\n",
    "r2 = r2_score(y_test, y_pred)  # R² Score\n",
    "mae = mean_absolute_error(y_test, y_pred)  # Mean Absolute Error\n",
    "rmse = mean_squared_error(y_test, y_pred, squared=False)  # Root Mean Squared Error\n",
    "\n",
    "# Print evaluation results\n",
    "print(f'R² Score: {r2:.2f}')\n",
    "print(f'MAE: {mae:.2f}')\n",
    "print(f'RMSE: {rmse:.2f}')"
   ]
  }
 ],
 "metadata": {
  "kernelspec": {
   "display_name": "Python 3",
   "language": "python",
   "name": "python3"
  },
  "language_info": {
   "codemirror_mode": {
    "name": "ipython",
    "version": 3
   },
   "file_extension": ".py",
   "mimetype": "text/x-python",
   "name": "python",
   "nbconvert_exporter": "python",
   "pygments_lexer": "ipython3",
   "version": "3.8"
  }
 },
 "nbformat": 4,
 "nbformat_minor": 5
}
