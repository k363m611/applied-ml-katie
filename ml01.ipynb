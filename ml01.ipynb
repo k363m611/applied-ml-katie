{
 "cells": [
  {
   "cell_type": "markdown",
   "id": "project-intro",
   "metadata": {},
   "source": [
    "# California Housing Price Prediction\n",
    "**Author:** Katie McGaughey\n",
    "**Date:** 3-15-2025\n",
    "**Objective:** Predict the median house price in California using available housing features."
   ]
  },
  {
   "cell_type": "code",
   "execution_count": null,
   "id": "import-libraries",
   "metadata": {},
   "outputs": [],
   "source": [
    "# Import necessary libraries\n",
    "import pandas as pd  # For data manipulation\n",
    "import numpy as np  # For numerical computations\n",
    "import matplotlib.pyplot as plt  # For static visualizations\n",
    "import seaborn as sns  # For statistical data visualization\n",
    "\n",
    "# Import the California housing dataset from sklearn\n",
    "from sklearn.datasets import fetch_california_housing\n",
    "from sklearn.model_selection import train_test_split  # Splitting data\n",
    "from sklearn.linear_model import LinearRegression  # Linear regression model\n",
    "from sklearn.metrics import mean_squared_error, mean_absolute_error, r2_score  # Model evaluation"
   ]
  },
  {
   "cell_type": "code",
   "execution_count": null,
   "id": "data-visualization",
   "metadata": {},
   "outputs": [],
   "source": [
    "# Histograms of numerical features\n",
    "data_frame.hist(bins=30, figsize=(12, 8))\n",
    "plt.suptitle(\"Feature Distributions\")\n",
    "plt.show()\n",
    "\n",
    "# Box plots for each numerical feature\n",
    "plt.figure(figsize=(12, 8))\n",
    "data_frame.boxplot(rot=45)\n",
    "plt.title(\"Feature Boxplots\")\n",
    "plt.show()\n",
    "\n",
    "# Correlation heatmap\n",
    "plt.figure(figsize=(10, 6))\n",
    "sns.heatmap(data_frame.corr(), annot=True, cmap='coolwarm', fmt='.2f')\n",
    "plt.title(\"Feature Correlation Heatmap\")\n",
    "plt.show()\n",
    "\n",
    "# Scatter plot of selected features\n",
    "plt.figure(figsize=(8, 6))\n",
    "sns.scatterplot(x=data_frame['MedInc'], y=data_frame['MedHouseVal'], alpha=0.5)\n",
    "plt.xlabel('Median Income')\n",
    "plt.ylabel('Median House Value')\n",
    "plt.title(\"Median Income vs. House Value\")\n",
    "plt.show()"
   ]
  },
  {
   "cell_type": "code",
   "execution_count": null,
   "id": "model-performance-visualization",
   "metadata": {},
   "outputs": [],
   "source": [
    "# Scatter plot of actual vs predicted values\n",
    "plt.figure(figsize=(8, 6))\n",
    "sns.scatterplot(x=y_test, y=y_pred, alpha=0.5)\n",
    "plt.xlabel('Actual House Values')\n",
    "plt.ylabel('Predicted House Values')\n",
    "plt.title(\"Actual vs Predicted House Values\")\n",
    "plt.show()\n",
    "\n",
    "# Residual plot\n",
    "residuals = y_test - y_pred\n",
    "plt.figure(figsize=(8, 6))\n",
    "sns.histplot(residuals, bins=30, kde=True)\n",
    "plt.xlabel('Residuals')\n",
    "plt.title(\"Residual Distribution\")\n",
    "plt.show()"
   ]
  }
 ],
 "metadata": {
  "kernelspec": {
   "display_name": "Python 3",
   "language": "python",
   "name": "python3"
  },
  "language_info": {
   "codemirror_mode": {
    "name": "ipython",
    "version": 3
   },
   "file_extension": ".py",
   "mimetype": "text/x-python",
   "name": "python",
   "nbconvert_exporter": "python",
   "pygments_lexer": "ipython3",
   "version": "3.8"
  }
 },
 "nbformat": 4,
 "nbformat_minor": 5
}
